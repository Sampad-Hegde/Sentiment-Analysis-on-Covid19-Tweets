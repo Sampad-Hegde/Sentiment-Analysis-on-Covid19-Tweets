{
 "cells": [
  {
   "cell_type": "code",
   "execution_count": 1,
   "metadata": {
    "_cell_guid": "b1076dfc-b9ad-4769-8c92-a6c4dae69d19",
    "_uuid": "8f2839f25d086af736a60e9eeb907d3b93b6e0e5",
    "execution": {
     "iopub.execute_input": "2021-04-04T13:43:51.510512Z",
     "iopub.status.busy": "2021-04-04T13:43:51.509581Z",
     "iopub.status.idle": "2021-04-04T13:43:51.529795Z",
     "shell.execute_reply": "2021-04-04T13:43:51.530571Z"
    },
    "id": "4dZyrUsokzDY",
    "papermill": {
     "duration": 0.047456,
     "end_time": "2021-04-04T13:43:51.530926",
     "exception": false,
     "start_time": "2021-04-04T13:43:51.483470",
     "status": "completed"
    },
    "tags": []
   },
   "outputs": [],
   "source": [
    "import numpy as np \n",
    "import pandas as pd"
   ]
  },
  {
   "cell_type": "markdown",
   "metadata": {
    "id": "vT4bsLZ_kzDm",
    "papermill": {
     "duration": 0.020661,
     "end_time": "2021-04-04T13:43:51.574386",
     "exception": false,
     "start_time": "2021-04-04T13:43:51.553725",
     "status": "completed"
    },
    "tags": []
   },
   "source": [
    "(1) Load Libraries"
   ]
  },
  {
   "cell_type": "code",
   "execution_count": 2,
   "metadata": {
    "execution": {
     "iopub.execute_input": "2021-04-04T13:43:51.622973Z",
     "iopub.status.busy": "2021-04-04T13:43:51.622115Z",
     "iopub.status.idle": "2021-04-04T13:44:01.221971Z",
     "shell.execute_reply": "2021-04-04T13:44:01.221306Z"
    },
    "id": "u7OKZi_QkzDo",
    "papermill": {
     "duration": 9.626689,
     "end_time": "2021-04-04T13:44:01.222146",
     "exception": false,
     "start_time": "2021-04-04T13:43:51.595457",
     "status": "completed"
    },
    "tags": []
   },
   "outputs": [],
   "source": [
    "import matplotlib.pyplot as plt\n",
    "import seaborn as sns\n",
    "\n",
    "import keras\n",
    "from keras.utils import to_categorical\n",
    "\n",
    "import re\n",
    "from nltk.corpus import stopwords\n",
    "\n",
    "from keras.preprocessing.text import Tokenizer\n",
    "from keras.preprocessing.sequence import pad_sequences\n",
    "\n",
    "from sklearn.model_selection import train_test_split\n",
    "from sklearn.metrics import accuracy_score\n"
   ]
  },
  {
   "cell_type": "markdown",
   "metadata": {
    "id": "h69mwA9WkzDp",
    "papermill": {
     "duration": 0.02145,
     "end_time": "2021-04-04T13:44:01.265668",
     "exception": false,
     "start_time": "2021-04-04T13:44:01.244218",
     "status": "completed"
    },
    "tags": []
   },
   "source": [
    "(2) Load tweets dataset"
   ]
  },
  {
   "cell_type": "code",
   "execution_count": 3,
   "metadata": {
    "colab": {
     "base_uri": "https://localhost:8080/",
     "height": 195
    },
    "execution": {
     "iopub.execute_input": "2021-04-04T13:44:01.322340Z",
     "iopub.status.busy": "2021-04-04T13:44:01.321299Z",
     "iopub.status.idle": "2021-04-04T13:44:01.524448Z",
     "shell.execute_reply": "2021-04-04T13:44:01.523782Z"
    },
    "id": "4k_-DLOIkzDp",
    "outputId": "c43397fa-bd8b-488e-b2af-f9251513204a",
    "papermill": {
     "duration": 0.237062,
     "end_time": "2021-04-04T13:44:01.524652",
     "exception": false,
     "start_time": "2021-04-04T13:44:01.287590",
     "status": "completed"
    },
    "tags": []
   },
   "outputs": [
    {
     "data": {
      "text/html": [
       "<div>\n",
       "<style scoped>\n",
       "    .dataframe tbody tr th:only-of-type {\n",
       "        vertical-align: middle;\n",
       "    }\n",
       "\n",
       "    .dataframe tbody tr th {\n",
       "        vertical-align: top;\n",
       "    }\n",
       "\n",
       "    .dataframe thead th {\n",
       "        text-align: right;\n",
       "    }\n",
       "</style>\n",
       "<table border=\"1\" class=\"dataframe\">\n",
       "  <thead>\n",
       "    <tr style=\"text-align: right;\">\n",
       "      <th></th>\n",
       "      <th>Text_Id</th>\n",
       "      <th>Text</th>\n",
       "      <th>Date</th>\n",
       "      <th>Location</th>\n",
       "      <th>Sentiments</th>\n",
       "    </tr>\n",
       "  </thead>\n",
       "  <tbody>\n",
       "    <tr>\n",
       "      <th>0</th>\n",
       "      <td>1241032866567356417</td>\n",
       "      <td>RT @theskindoctor13: Shaheen Bagh is still on....</td>\n",
       "      <td>Fri Mar 20 16:04:27 +0000 2020</td>\n",
       "      <td>Uttar Pradesh, India</td>\n",
       "      <td>0.000</td>\n",
       "    </tr>\n",
       "    <tr>\n",
       "      <th>1</th>\n",
       "      <td>1241032867699765249</td>\n",
       "      <td>RT @theskindoctor13: Shaheen Bagh is still on....</td>\n",
       "      <td>Fri Mar 20 16:04:27 +0000 2020</td>\n",
       "      <td>Mumbai</td>\n",
       "      <td>0.000</td>\n",
       "    </tr>\n",
       "    <tr>\n",
       "      <th>2</th>\n",
       "      <td>1241032875102703616</td>\n",
       "      <td>RT @SmokingSkills_: Daughter of an IAS, son of...</td>\n",
       "      <td>Fri Mar 20 16:04:29 +0000 2020</td>\n",
       "      <td>Jodhpur, India</td>\n",
       "      <td>0.350</td>\n",
       "    </tr>\n",
       "    <tr>\n",
       "      <th>3</th>\n",
       "      <td>1241032877099237379</td>\n",
       "      <td>RT @narendramodi: The young actors have someth...</td>\n",
       "      <td>Fri Mar 20 16:04:29 +0000 2020</td>\n",
       "      <td>Gurugram, Bharat</td>\n",
       "      <td>0.125</td>\n",
       "    </tr>\n",
       "    <tr>\n",
       "      <th>4</th>\n",
       "      <td>1241032870405128192</td>\n",
       "      <td>RT @theskindoctor13: Shaheen Bagh is still on....</td>\n",
       "      <td>Fri Mar 20 16:04:28 +0000 2020</td>\n",
       "      <td>New Delhi, India</td>\n",
       "      <td>0.000</td>\n",
       "    </tr>\n",
       "  </tbody>\n",
       "</table>\n",
       "</div>"
      ],
      "text/plain": [
       "               Text_Id                                               Text  \\\n",
       "0  1241032866567356417  RT @theskindoctor13: Shaheen Bagh is still on....   \n",
       "1  1241032867699765249  RT @theskindoctor13: Shaheen Bagh is still on....   \n",
       "2  1241032875102703616  RT @SmokingSkills_: Daughter of an IAS, son of...   \n",
       "3  1241032877099237379  RT @narendramodi: The young actors have someth...   \n",
       "4  1241032870405128192  RT @theskindoctor13: Shaheen Bagh is still on....   \n",
       "\n",
       "                             Date              Location  Sentiments  \n",
       "0  Fri Mar 20 16:04:27 +0000 2020  Uttar Pradesh, India       0.000  \n",
       "1  Fri Mar 20 16:04:27 +0000 2020                Mumbai       0.000  \n",
       "2  Fri Mar 20 16:04:29 +0000 2020        Jodhpur, India       0.350  \n",
       "3  Fri Mar 20 16:04:29 +0000 2020      Gurugram, Bharat       0.125  \n",
       "4  Fri Mar 20 16:04:28 +0000 2020      New Delhi, India       0.000  "
      ]
     },
     "execution_count": 3,
     "metadata": {},
     "output_type": "execute_result"
    }
   ],
   "source": [
    "tweets = pd.read_csv(\"COVID-19_Sentiments.csv\")\n",
    "tweets.head(5)"
   ]
  },
  {
   "cell_type": "code",
   "execution_count": 4,
   "metadata": {
    "colab": {
     "base_uri": "https://localhost:8080/",
     "height": 195
    },
    "id": "cPgi5cZ2xWPw",
    "outputId": "2b2eb7cb-5295-40d3-bc24-270d5a391083"
   },
   "outputs": [
    {
     "data": {
      "text/html": [
       "<div>\n",
       "<style scoped>\n",
       "    .dataframe tbody tr th:only-of-type {\n",
       "        vertical-align: middle;\n",
       "    }\n",
       "\n",
       "    .dataframe tbody tr th {\n",
       "        vertical-align: top;\n",
       "    }\n",
       "\n",
       "    .dataframe thead th {\n",
       "        text-align: right;\n",
       "    }\n",
       "</style>\n",
       "<table border=\"1\" class=\"dataframe\">\n",
       "  <thead>\n",
       "    <tr style=\"text-align: right;\">\n",
       "      <th></th>\n",
       "      <th>Text_Id</th>\n",
       "      <th>Text</th>\n",
       "      <th>Date</th>\n",
       "      <th>Location</th>\n",
       "      <th>Sentiments</th>\n",
       "      <th>Sentiment</th>\n",
       "    </tr>\n",
       "  </thead>\n",
       "  <tbody>\n",
       "    <tr>\n",
       "      <th>0</th>\n",
       "      <td>1241032866567356417</td>\n",
       "      <td>RT @theskindoctor13: Shaheen Bagh is still on....</td>\n",
       "      <td>Fri Mar 20 16:04:27 +0000 2020</td>\n",
       "      <td>Uttar Pradesh, India</td>\n",
       "      <td>0.000</td>\n",
       "      <td>0</td>\n",
       "    </tr>\n",
       "    <tr>\n",
       "      <th>1</th>\n",
       "      <td>1241032867699765249</td>\n",
       "      <td>RT @theskindoctor13: Shaheen Bagh is still on....</td>\n",
       "      <td>Fri Mar 20 16:04:27 +0000 2020</td>\n",
       "      <td>Mumbai</td>\n",
       "      <td>0.000</td>\n",
       "      <td>0</td>\n",
       "    </tr>\n",
       "    <tr>\n",
       "      <th>2</th>\n",
       "      <td>1241032875102703616</td>\n",
       "      <td>RT @SmokingSkills_: Daughter of an IAS, son of...</td>\n",
       "      <td>Fri Mar 20 16:04:29 +0000 2020</td>\n",
       "      <td>Jodhpur, India</td>\n",
       "      <td>0.350</td>\n",
       "      <td>1</td>\n",
       "    </tr>\n",
       "    <tr>\n",
       "      <th>3</th>\n",
       "      <td>1241032877099237379</td>\n",
       "      <td>RT @narendramodi: The young actors have someth...</td>\n",
       "      <td>Fri Mar 20 16:04:29 +0000 2020</td>\n",
       "      <td>Gurugram, Bharat</td>\n",
       "      <td>0.125</td>\n",
       "      <td>1</td>\n",
       "    </tr>\n",
       "    <tr>\n",
       "      <th>4</th>\n",
       "      <td>1241032870405128192</td>\n",
       "      <td>RT @theskindoctor13: Shaheen Bagh is still on....</td>\n",
       "      <td>Fri Mar 20 16:04:28 +0000 2020</td>\n",
       "      <td>New Delhi, India</td>\n",
       "      <td>0.000</td>\n",
       "      <td>0</td>\n",
       "    </tr>\n",
       "  </tbody>\n",
       "</table>\n",
       "</div>"
      ],
      "text/plain": [
       "               Text_Id                                               Text  \\\n",
       "0  1241032866567356417  RT @theskindoctor13: Shaheen Bagh is still on....   \n",
       "1  1241032867699765249  RT @theskindoctor13: Shaheen Bagh is still on....   \n",
       "2  1241032875102703616  RT @SmokingSkills_: Daughter of an IAS, son of...   \n",
       "3  1241032877099237379  RT @narendramodi: The young actors have someth...   \n",
       "4  1241032870405128192  RT @theskindoctor13: Shaheen Bagh is still on....   \n",
       "\n",
       "                             Date              Location  Sentiments  Sentiment  \n",
       "0  Fri Mar 20 16:04:27 +0000 2020  Uttar Pradesh, India       0.000          0  \n",
       "1  Fri Mar 20 16:04:27 +0000 2020                Mumbai       0.000          0  \n",
       "2  Fri Mar 20 16:04:29 +0000 2020        Jodhpur, India       0.350          1  \n",
       "3  Fri Mar 20 16:04:29 +0000 2020      Gurugram, Bharat       0.125          1  \n",
       "4  Fri Mar 20 16:04:28 +0000 2020      New Delhi, India       0.000          0  "
      ]
     },
     "execution_count": 4,
     "metadata": {},
     "output_type": "execute_result"
    }
   ],
   "source": [
    "def senti_norm(score):\n",
    "    if score < 0:\n",
    "        return -1\n",
    "    elif score == 0:\n",
    "        return 0\n",
    "    else:\n",
    "        return 1\n",
    "tweets ['Sentiment'] = tweets['Sentiments'].apply(senti_norm)\n",
    "tweets.head()"
   ]
  },
  {
   "cell_type": "code",
   "execution_count": 5,
   "metadata": {
    "colab": {
     "base_uri": "https://localhost:8080/"
    },
    "execution": {
     "iopub.execute_input": "2021-04-04T13:44:01.582097Z",
     "iopub.status.busy": "2021-04-04T13:44:01.580895Z",
     "iopub.status.idle": "2021-04-04T13:44:01.587842Z",
     "shell.execute_reply": "2021-04-04T13:44:01.587288Z"
    },
    "id": "J8VsTm9FkzDq",
    "outputId": "285aee8c-364a-4772-f59c-ea0f9bcca603",
    "papermill": {
     "duration": 0.0414,
     "end_time": "2021-04-04T13:44:01.588010",
     "exception": false,
     "start_time": "2021-04-04T13:44:01.546610",
     "status": "completed"
    },
    "tags": []
   },
   "outputs": [
    {
     "name": "stdout",
     "output_type": "stream",
     "text": [
      "Index(['Text_Id', 'Text', 'Date', 'Location', 'Sentiments', 'Sentiment'], dtype='object')\n",
      "Shape of our dataset >> (648958, 2)\n"
     ]
    },
    {
     "data": {
      "text/plain": [
       "(648958, 2)"
      ]
     },
     "execution_count": 5,
     "metadata": {},
     "output_type": "execute_result"
    }
   ],
   "source": [
    "print(tweets.columns)\n",
    "df = pd.DataFrame({\n",
    "    \"sentiment\":tweets.Sentiment,\n",
    "    \"text\":tweets.Text\n",
    "})\n",
    "print(f\"Shape of our dataset >> {df.shape}\")\n",
    "df.head()\n",
    "df.shape"
   ]
  },
  {
   "cell_type": "code",
   "execution_count": 6,
   "metadata": {
    "colab": {
     "base_uri": "https://localhost:8080/",
     "height": 295
    },
    "execution": {
     "iopub.execute_input": "2021-04-04T13:44:01.660586Z",
     "iopub.status.busy": "2021-04-04T13:44:01.652432Z",
     "iopub.status.idle": "2021-04-04T13:44:01.844047Z",
     "shell.execute_reply": "2021-04-04T13:44:01.843445Z"
    },
    "id": "9Wce26f4kzDr",
    "outputId": "3c9e91a2-faa0-417d-edfa-e8fac40669b7",
    "papermill": {
     "duration": 0.232335,
     "end_time": "2021-04-04T13:44:01.844193",
     "exception": false,
     "start_time": "2021-04-04T13:44:01.611858",
     "status": "completed"
    },
    "tags": []
   },
   "outputs": [
    {
     "data": {
      "image/png": "[encoded data removed]",
      "text/plain": [
       "<Figure size 432x288 with 1 Axes>"
      ]
     },
     "metadata": {},
     "output_type": "display_data"
    }
   ],
   "source": [
    "# df.sentiment.replace(['negative','neutral','positive'],[-1,0,1],inplace=True)\n",
    "df.sample(5)\n",
    "\n",
    "sns.set_style(\"whitegrid\")\n",
    "sns.countplot(data=df,x='sentiment')\n",
    "index = [0,1,2]\n",
    "plt.xticks(index,['negative','neutral','positive'])\n",
    "plt.title(\"Distribution of sentiment labels\")\n",
    "plt.show()"
   ]
  },
  {
   "cell_type": "code",
   "execution_count": 7,
   "metadata": {
    "colab": {
     "base_uri": "https://localhost:8080/"
    },
    "id": "2IY2GyKIlyUu",
    "outputId": "d212ad35-fdfa-4c1e-d0c9-a90533e9b1aa"
   },
   "outputs": [
    {
     "name": "stderr",
     "output_type": "stream",
     "text": [
      "[nltk_data] Downloading package stopwords to\n",
      "[nltk_data]     C:\\Users\\Sampad\\AppData\\Roaming\\nltk_data...\n",
      "[nltk_data]   Package stopwords is already up-to-date!\n"
     ]
    },
    {
     "data": {
      "text/plain": [
       "True"
      ]
     },
     "execution_count": 7,
     "metadata": {},
     "output_type": "execute_result"
    }
   ],
   "source": [
    "import nltk\n",
    "nltk.download('stopwords')"
   ]
  },
  {
   "cell_type": "markdown",
   "metadata": {
    "id": "8__BrqFvkzDs",
    "papermill": {
     "duration": 0.023249,
     "end_time": "2021-04-04T13:44:01.891131",
     "exception": false,
     "start_time": "2021-04-04T13:44:01.867882",
     "status": "completed"
    },
    "tags": []
   },
   "source": [
    "(3) Clean text data: \n",
    "* remove urls\n",
    "* remove shortwords ( words of which length is 1 or 2)\n",
    "* remove @ mentions\n",
    "* remove # hashtags\n",
    "* remove stopwords from nltk.corpus module"
   ]
  },
  {
   "cell_type": "code",
   "execution_count": 8,
   "metadata": {
    "colab": {
     "base_uri": "https://localhost:8080/"
    },
    "execution": {
     "iopub.execute_input": "2021-04-04T13:44:01.948035Z",
     "iopub.status.busy": "2021-04-04T13:44:01.947176Z",
     "iopub.status.idle": "2021-04-04T13:44:02.206522Z",
     "shell.execute_reply": "2021-04-04T13:44:02.205941Z"
    },
    "id": "KX9EXlfXkzDs",
    "outputId": "4e59fffb-5496-4942-b47d-cf4461997f6d",
    "papermill": {
     "duration": 0.291924,
     "end_time": "2021-04-04T13:44:02.206688",
     "exception": false,
     "start_time": "2021-04-04T13:44:01.914764",
     "status": "completed"
    },
    "tags": []
   },
   "outputs": [
    {
     "data": {
      "text/plain": [
       "0     theskindoctor13: Shaheen Bagh still . Mosques ...\n",
       "1     theskindoctor13: Shaheen Bagh still . Mosques ...\n",
       "2     SmokingSkills_: Daughter IAS, son Kolkata offi...\n",
       "3     narendramodi: The young actors something say.....\n",
       "4     theskindoctor13: Shaheen Bagh still . Mosques ...\n",
       "5     narendramodi: Explosive batsmen who' seen team...\n",
       "6     gkd600: spreading Rumors. This official websit...\n",
       "7     bainjal: That son top official West Bengal &am...\n",
       "8     amitandon: Corona proven India' bigger problem...\n",
       "9     Dt_Ritika: Being cancer patient scared COVID-....\n",
       "10    GHMCOnline CPHydCity MinisterKTR Eatala_Rajend...\n",
       "11    amitandon: Corona proven India' bigger problem...\n",
       "12    alok_bhatt: One person sent quarantine travell...\n",
       "13    amitandon: Corona proven India' bigger problem...\n",
       "14    TheOceanVibes: All corona jokes okay don' take...\n",
       "Name: text, dtype: object"
      ]
     },
     "execution_count": 8,
     "metadata": {},
     "output_type": "execute_result"
    }
   ],
   "source": [
    "stop_words = set(stopwords.words('english'))\n",
    "\n",
    "shortword = re.compile(r\"\\b\\w{1,2}\\b\")\n",
    "url = re.compile(r\"https?:*/+[a-zA-Z0-9./]*\")\n",
    "\n",
    "def clean(text):\n",
    "    text = re.sub(url,'',text)\n",
    "    text = re.sub(shortword,'',text)\n",
    "    text = text.replace('@','')\n",
    "    text = text.replace('#','')\n",
    "    \n",
    "    text = text.split()\n",
    "    text = [word for word in text if word not in stop_words]\n",
    "    text = \" \".join(text)\n",
    "    \n",
    "    return text\n",
    "\n",
    "df.text = df.text.apply(clean)\n",
    "df.text[:15]"
   ]
  },
  {
   "cell_type": "code",
   "execution_count": 46,
   "metadata": {},
   "outputs": [
    {
     "data": {
      "text/html": [
       "<div>\n",
       "<style scoped>\n",
       "    .dataframe tbody tr th:only-of-type {\n",
       "        vertical-align: middle;\n",
       "    }\n",
       "\n",
       "    .dataframe tbody tr th {\n",
       "        vertical-align: top;\n",
       "    }\n",
       "\n",
       "    .dataframe thead th {\n",
       "        text-align: right;\n",
       "    }\n",
       "</style>\n",
       "<table border=\"1\" class=\"dataframe\">\n",
       "  <thead>\n",
       "    <tr style=\"text-align: right;\">\n",
       "      <th></th>\n",
       "      <th>sentiment</th>\n",
       "      <th>text</th>\n",
       "    </tr>\n",
       "  </thead>\n",
       "  <tbody>\n",
       "    <tr>\n",
       "      <th>0</th>\n",
       "      <td>0</td>\n",
       "      <td>theskindoctor13: Shaheen Bagh still . Mosques ...</td>\n",
       "    </tr>\n",
       "    <tr>\n",
       "      <th>1</th>\n",
       "      <td>0</td>\n",
       "      <td>theskindoctor13: Shaheen Bagh still . Mosques ...</td>\n",
       "    </tr>\n",
       "    <tr>\n",
       "      <th>2</th>\n",
       "      <td>1</td>\n",
       "      <td>SmokingSkills_: Daughter IAS, son Kolkata offi...</td>\n",
       "    </tr>\n",
       "    <tr>\n",
       "      <th>3</th>\n",
       "      <td>1</td>\n",
       "      <td>narendramodi: The young actors something say.....</td>\n",
       "    </tr>\n",
       "    <tr>\n",
       "      <th>4</th>\n",
       "      <td>0</td>\n",
       "      <td>theskindoctor13: Shaheen Bagh still . Mosques ...</td>\n",
       "    </tr>\n",
       "  </tbody>\n",
       "</table>\n",
       "</div>"
      ],
      "text/plain": [
       "   sentiment                                               text\n",
       "0          0  theskindoctor13: Shaheen Bagh still . Mosques ...\n",
       "1          0  theskindoctor13: Shaheen Bagh still . Mosques ...\n",
       "2          1  SmokingSkills_: Daughter IAS, son Kolkata offi...\n",
       "3          1  narendramodi: The young actors something say.....\n",
       "4          0  theskindoctor13: Shaheen Bagh still . Mosques ..."
      ]
     },
     "execution_count": 46,
     "metadata": {},
     "output_type": "execute_result"
    }
   ],
   "source": [
    "df.head(5)"
   ]
  },
  {
   "cell_type": "markdown",
   "metadata": {
    "id": "lEMCN6y4kzDu",
    "papermill": {
     "duration": 0.024091,
     "end_time": "2021-04-04T13:44:02.255178",
     "exception": false,
     "start_time": "2021-04-04T13:44:02.231087",
     "status": "completed"
    },
    "tags": []
   },
   "source": [
    "(4) Tokenize (words to integers)"
   ]
  },
  {
   "cell_type": "code",
   "execution_count": 9,
   "metadata": {
    "colab": {
     "base_uri": "https://localhost:8080/"
    },
    "execution": {
     "iopub.execute_input": "2021-04-04T13:44:02.307756Z",
     "iopub.status.busy": "2021-04-04T13:44:02.307060Z",
     "iopub.status.idle": "2021-04-04T13:44:02.806114Z",
     "shell.execute_reply": "2021-04-04T13:44:02.804851Z"
    },
    "id": "grOAPbBWkzDv",
    "outputId": "a4d258f4-bc87-4238-9327-85530e6607e5",
    "papermill": {
     "duration": 0.526839,
     "end_time": "2021-04-04T13:44:02.806525",
     "exception": false,
     "start_time": "2021-04-04T13:44:02.279686",
     "status": "completed"
    },
    "tags": []
   },
   "outputs": [
    {
     "name": "stdout",
     "output_type": "stream",
     "text": [
      "166720 words are used\n",
      "\n",
      "166720\n",
      "262854 are used less than 5 times\n",
      "And these words accounts for 2.8% of whole texts\n"
     ]
    }
   ],
   "source": [
    "tokenizer = Tokenizer()\n",
    "tokenizer.fit_on_texts(df.text)\n",
    "print(f\"{len(tokenizer.word_index)} words are used\\n\")\n",
    "\n",
    "counts = tokenizer.word_counts\n",
    "print(len(counts))"
   ]
  },
  {
   "cell_type": "code",
   "execution_count": 10,
   "metadata": {
    "colab": {
     "base_uri": "https://localhost:8080/"
    },
    "execution": {
     "iopub.execute_input": "2021-04-04T13:44:02.886286Z",
     "iopub.status.busy": "2021-04-04T13:44:02.880907Z",
     "iopub.status.idle": "2021-04-04T13:44:03.423416Z",
     "shell.execute_reply": "2021-04-04T13:44:03.422864Z"
    },
    "id": "3zXQvF_0kzDw",
    "outputId": "7f0e44d9-69d7-4e54-fccf-e448d45c13f8",
    "papermill": {
     "duration": 0.58909,
     "end_time": "2021-04-04T13:44:03.423621",
     "exception": false,
     "start_time": "2021-04-04T13:44:02.834531",
     "status": "completed"
    },
    "tags": []
   },
   "outputs": [
    {
     "name": "stdout",
     "output_type": "stream",
     "text": [
      "Tokenize only 160000 words.\n",
      "Other words are considered OOV\n",
      "\n",
      "Samples\n",
      "\n",
      "[2047, 761, 750, 149, 552, 258, 2269, 388, 1, 623, 1268, 180, 2270, 2294, 2]\n",
      "[2047, 761, 750, 149, 552, 258, 2269, 388, 1, 623, 1268, 180, 2270, 2294, 2]\n",
      "648958\n"
     ]
    }
   ],
   "source": [
    "print(\"Tokenize only 160000 words.\\nOther words are considered OOV\")\n",
    "word_size=166720\n",
    "vocab_size = word_size\n",
    "tokenizer = Tokenizer(num_words=word_size)\n",
    "\n",
    "tokenizer.fit_on_texts(df.text)\n",
    "tokenized = tokenizer.texts_to_sequences(df.text)\n",
    "\n",
    "print(\"\\nSamples\\n\")\n",
    "print(tokenized[0])\n",
    "print(tokenized[1])\n",
    "print(len(tokenized))"
   ]
  },
  {
   "cell_type": "markdown",
   "metadata": {
    "id": "GjE_I4ujkzDx",
    "papermill": {
     "duration": 0.025683,
     "end_time": "2021-04-04T13:44:03.476251",
     "exception": false,
     "start_time": "2021-04-04T13:44:03.450568",
     "status": "completed"
    },
    "tags": []
   },
   "source": [
    "(5) Pad & truncate sequences (post)"
   ]
  },
  {
   "cell_type": "code",
   "execution_count": 11,
   "metadata": {
    "colab": {
     "base_uri": "https://localhost:8080/",
     "height": 416
    },
    "execution": {
     "iopub.execute_input": "2021-04-04T13:44:03.543669Z",
     "iopub.status.busy": "2021-04-04T13:44:03.542530Z",
     "iopub.status.idle": "2021-04-04T13:44:04.101416Z",
     "shell.execute_reply": "2021-04-04T13:44:04.099537Z"
    },
    "id": "oWehwXvGkzDx",
    "outputId": "04502cc2-1434-436f-8ad2-2420b2334206",
    "papermill": {
     "duration": 0.598872,
     "end_time": "2021-04-04T13:44:04.101660",
     "exception": false,
     "start_time": "2021-04-04T13:44:03.502788",
     "status": "completed"
    },
    "tags": []
   },
   "outputs": [
    {
     "name": "stdout",
     "output_type": "stream",
     "text": [
      "Average length of each row >> 14.474073822959268\n",
      "Maximum length of each row >> 96\n"
     ]
    },
    {
     "data": {
      "image/png": "[encoded data removed]",
      "text/plain": [
       "<Figure size 432x288 with 1 Axes>"
      ]
     },
     "metadata": {},
     "output_type": "display_data"
    },
    {
     "name": "stdout",
     "output_type": "stream",
     "text": [
      "Pad all sequences into size of 20\n",
      "(648958, 20)\n",
      "Padded samples\n",
      "[2047  761  750  149  552  258 2269  388    1  623 1268  180 2270 2294\n",
      "    2    0    0    0    0    0]\n",
      "[2047  761  750  149  552  258 2269  388    1  623 1268  180 2270 2294\n",
      "    2    0    0    0    0    0]\n"
     ]
    }
   ],
   "source": [
    "lengths = [len(s) for s in tokenized]\n",
    "print(f\"Average length of each row >> {np.mean(lengths)}\")\n",
    "print(f\"Maximum length of each row >> {np.max(lengths)}\")\n",
    "\n",
    "plt.hist(lengths,bins=50)\n",
    "plt.show()\n",
    "\n",
    "sequence_size = 20\n",
    "print(f\"Pad all sequences into size of {sequence_size}\")\n",
    "\n",
    "padded = pad_sequences(tokenized,maxlen=sequence_size,padding='post',truncating='post')\n",
    "print(padded.shape)\n",
    "print(\"Padded samples\")\n",
    "print(padded[0])\n",
    "print(padded[1])"
   ]
  },
  {
   "cell_type": "code",
   "execution_count": 38,
   "metadata": {},
   "outputs": [
    {
     "data": {
      "text/plain": [
       "96"
      ]
     },
     "execution_count": 38,
     "metadata": {},
     "output_type": "execute_result"
    }
   ],
   "source": [
    "max(lengths)"
   ]
  },
  {
   "cell_type": "code",
   "execution_count": 58,
   "metadata": {},
   "outputs": [],
   "source": [
    "complete_pad = pad_sequences(tokenized,maxlen=max(lengths),padding='post',truncating='post')"
   ]
  },
  {
   "cell_type": "code",
   "execution_count": 74,
   "metadata": {},
   "outputs": [
    {
     "data": {
      "text/plain": [
       "array([2047,  761,  750,  149,  552,  258, 2269,  388,    1,  623, 1268,\n",
       "        180, 2270, 2294,    2,    0,    0,    0,    0,    0,    0,    0,\n",
       "          0,    0,    0,    0,    0,    0,    0,    0,    0,    0,    0,\n",
       "          0,    0,    0,    0,    0,    0,    0,    0,    0,    0,    0,\n",
       "          0,    0,    0,    0,    0,    0,    0,    0,    0,    0,    0,\n",
       "          0,    0,    0,    0,    0,    0,    0,    0,    0,    0,    0,\n",
       "          0,    0,    0,    0,    0,    0,    0,    0,    0,    0,    0,\n",
       "          0,    0,    0,    0,    0,    0,    0,    0,    0,    0,    0,\n",
       "          0,    0,    0,    0,    0,    0,    0,    0])"
      ]
     },
     "execution_count": 74,
     "metadata": {},
     "output_type": "execute_result"
    }
   ],
   "source": [
    "complete_pad[0]"
   ]
  },
  {
   "cell_type": "markdown",
   "metadata": {
    "id": "atmOcP35kzDy",
    "papermill": {
     "duration": 0.027664,
     "end_time": "2021-04-04T13:44:04.159963",
     "exception": false,
     "start_time": "2021-04-04T13:44:04.132299",
     "status": "completed"
    },
    "tags": []
   },
   "source": [
    "(6) Transform label (setiment data) into one-hot vectors"
   ]
  },
  {
   "cell_type": "code",
   "execution_count": 107,
   "metadata": {
    "colab": {
     "base_uri": "https://localhost:8080/"
    },
    "execution": {
     "iopub.execute_input": "2021-04-04T13:44:04.222167Z",
     "iopub.status.busy": "2021-04-04T13:44:04.220707Z",
     "iopub.status.idle": "2021-04-04T13:44:04.228575Z",
     "shell.execute_reply": "2021-04-04T13:44:04.229585Z"
    },
    "id": "tYz3PLw3kzDy",
    "outputId": "e22a55ae-e9ee-445a-87f4-f7253a3d262d",
    "papermill": {
     "duration": 0.042676,
     "end_time": "2021-04-04T13:44:04.229880",
     "exception": false,
     "start_time": "2021-04-04T13:44:04.187204",
     "status": "completed"
    },
    "tags": []
   },
   "outputs": [
    {
     "name": "stdout",
     "output_type": "stream",
     "text": [
      "shape of data >> (648958, 20)\n",
      "shape of label >> (648958, 3)\n",
      "\n",
      "Samples of label data\n",
      "0  :  [1. 0. 0.]\n",
      "1  :  [0. 1. 0.]\n"
     ]
    }
   ],
   "source": [
    "data = padded\n",
    "label = to_categorical(df.sentiment,num_classes=3)\n",
    "\n",
    "print(\"shape of data >>\",data.shape)\n",
    "print(\"shape of label >>\",label.shape)\n",
    "\n",
    "print(\"\\nSamples of label data\")\n",
    "print(df['sentiment'][0],' : ',label[0])\n",
    "print(df['sentiment'][10],' : ',label[10])"
   ]
  },
  {
   "cell_type": "markdown",
   "metadata": {
    "id": "McbaWCvLkzDz",
    "papermill": {
     "duration": 0.028993,
     "end_time": "2021-04-04T13:44:04.287403",
     "exception": false,
     "start_time": "2021-04-04T13:44:04.258410",
     "status": "completed"
    },
    "tags": []
   },
   "source": [
    "(7) Train/Test split"
   ]
  },
  {
   "cell_type": "code",
   "execution_count": 13,
   "metadata": {
    "colab": {
     "base_uri": "https://localhost:8080/",
     "height": 424
    },
    "execution": {
     "iopub.execute_input": "2021-04-04T13:44:04.371007Z",
     "iopub.status.busy": "2021-04-04T13:44:04.365488Z",
     "iopub.status.idle": "2021-04-04T13:44:04.804715Z",
     "shell.execute_reply": "2021-04-04T13:44:04.805217Z"
    },
    "id": "GswCBzxykzDz",
    "outputId": "2fe47d2a-f8b5-471a-f74a-10b06e5decf0",
    "papermill": {
     "duration": 0.489163,
     "end_time": "2021-04-04T13:44:04.805402",
     "exception": false,
     "start_time": "2021-04-04T13:44:04.316239",
     "status": "completed"
    },
    "tags": []
   },
   "outputs": [
    {
     "name": "stdout",
     "output_type": "stream",
     "text": [
      "shape of train data >> (454270, 20)\n",
      "shape of test data >> (194688, 20)\n"
     ]
    },
    {
     "data": {
      "image/png": "[encoded data removed]",
      "text/plain": [
       "<Figure size 864x432 with 2 Axes>"
      ]
     },
     "metadata": {},
     "output_type": "display_data"
    }
   ],
   "source": [
    "train_data,test_data,train_label,test_label = train_test_split(data,label,test_size=0.3,random_state=42)\n",
    "\n",
    "print(\"shape of train data >>\",train_data.shape)\n",
    "print(\"shape of test data >>\",test_data.shape)\n",
    "\n",
    "fig = plt.figure(figsize=(12,6))\n",
    "ax1 = fig.add_subplot(1,2,1)\n",
    "sns.countplot(x=np.argmax(train_label,axis=1))\n",
    "plt.title(\"Distribution of train label\")\n",
    "\n",
    "ax2 = fig.add_subplot(1,2,2)\n",
    "sns.countplot(x=np.argmax(test_label,axis=1))\n",
    "plt.title(\"Distribution of test label\")\n",
    "plt.show()\n",
    "\n",
    "index_to_sentiment = {\n",
    "    0:'neutral',\n",
    "    1:'positive',\n",
    "    -1:'negative'\n",
    "}"
   ]
  },
  {
   "cell_type": "code",
   "execution_count": 89,
   "metadata": {},
   "outputs": [],
   "source": [
    "x_train, x_test, y_train, y_test = train_test_split(complete_pad, df['sentiment'].values, test_size=0.20)"
   ]
  },
  {
   "cell_type": "code",
   "execution_count": 90,
   "metadata": {},
   "outputs": [
    {
     "data": {
      "text/plain": [
       "array([ 3281,   138, 13875,   439,  1420,     3,    13,   177,  9950,\n",
       "         401, 17109,   847, 10059,  8999,     2,     0,     0,     0,\n",
       "           0,     0,     0,     0,     0,     0,     0,     0,     0,\n",
       "           0,     0,     0,     0,     0,     0,     0,     0,     0,\n",
       "           0,     0,     0,     0,     0,     0,     0,     0,     0,\n",
       "           0,     0,     0,     0,     0,     0,     0,     0,     0,\n",
       "           0,     0,     0,     0,     0,     0,     0,     0,     0,\n",
       "           0,     0,     0,     0,     0,     0,     0,     0,     0,\n",
       "           0,     0,     0,     0,     0,     0,     0,     0,     0,\n",
       "           0,     0,     0,     0,     0,     0,     0,     0,     0,\n",
       "           0,     0,     0,     0,     0,     0])"
      ]
     },
     "execution_count": 90,
     "metadata": {},
     "output_type": "execute_result"
    }
   ],
   "source": [
    "x_test[0]"
   ]
  },
  {
   "cell_type": "code",
   "execution_count": 91,
   "metadata": {},
   "outputs": [],
   "source": [
    "D = 20 \n",
    "M = 15\n",
    "T = complete_pad.shape[1]\n",
    "V = len(counts)\n",
    "i = Input (shape=(T, ))   \n",
    "x = Embedding(V+1, D)(i)    # V+1 because the indexing of the words in vocab (V) start from 1 not 0\n",
    "x = LSTM(M, return_sequences=True)(x)\n",
    "x = GlobalMaxPooling1D()(x)\n",
    "x = Dense(32, activation='relu')(x)\n",
    "x = Dense(1, activation='sigmoid')(x)\n",
    "\n",
    "model = Model(i,x)\n",
    "\n",
    "# compiling the model\n",
    "model.compile(optimizer='adam', \n",
    "              loss='binary_crossentropy', \n",
    "              metrics=['accuracy'])"
   ]
  },
  {
   "cell_type": "code",
   "execution_count": 92,
   "metadata": {},
   "outputs": [
    {
     "name": "stdout",
     "output_type": "stream",
     "text": [
      "Model: \"model_5\"\n",
      "_________________________________________________________________\n",
      "Layer (type)                 Output Shape              Param #   \n",
      "=================================================================\n",
      "input_7 (InputLayer)         [(None, 96)]              0         \n",
      "_________________________________________________________________\n",
      "embedding_5 (Embedding)      (None, 96, 20)            3334420   \n",
      "_________________________________________________________________\n",
      "lstm_7 (LSTM)                (None, 96, 15)            2160      \n",
      "_________________________________________________________________\n",
      "global_max_pooling1d_5 (Glob (None, 15)                0         \n",
      "_________________________________________________________________\n",
      "dense_11 (Dense)             (None, 32)                512       \n",
      "_________________________________________________________________\n",
      "dense_12 (Dense)             (None, 1)                 33        \n",
      "=================================================================\n",
      "Total params: 3,337,125\n",
      "Trainable params: 3,337,125\n",
      "Non-trainable params: 0\n",
      "_________________________________________________________________\n"
     ]
    }
   ],
   "source": [
    "model.summary()"
   ]
  },
  {
   "cell_type": "code",
   "execution_count": 93,
   "metadata": {},
   "outputs": [
    {
     "name": "stdout",
     "output_type": "stream",
     "text": [
      "Epoch 1/5\n",
      "2028/2028 [==============================] - 74s 35ms/step - loss: -40.1406 - accuracy: 0.6048 - val_loss: -351.9944 - val_accuracy: 0.7336\n",
      "Epoch 2/5\n",
      "2028/2028 [==============================] - 73s 36ms/step - loss: -548.2549 - accuracy: 0.7202 - val_loss: -1221.7784 - val_accuracy: 0.6567\n",
      "Epoch 3/5\n",
      "2028/2028 [==============================] - 73s 36ms/step - loss: -1661.8682 - accuracy: 0.6848 - val_loss: -2570.6616 - val_accuracy: 0.6631\n",
      "Epoch 4/5\n",
      "2028/2028 [==============================] - 74s 36ms/step - loss: -3247.4627 - accuracy: 0.6920 - val_loss: -4430.7832 - val_accuracy: 0.6667\n",
      "Epoch 5/5\n",
      "2028/2028 [==============================] - 74s 36ms/step - loss: -5270.3978 - accuracy: 0.6988 - val_loss: -6496.3413 - val_accuracy: 0.6561\n"
     ]
    }
   ],
   "source": [
    "r = model.fit(x = x_train, y = y_train, validation_data = (x_test, y_test), epochs=5,batch_size=256)"
   ]
  },
  {
   "cell_type": "code",
   "execution_count": 94,
   "metadata": {},
   "outputs": [
    {
     "data": {
      "text/plain": [
       "<matplotlib.legend.Legend at 0x29f9c5645e0>"
      ]
     },
     "execution_count": 94,
     "metadata": {},
     "output_type": "execute_result"
    },
    {
     "data": {
      "image/png": "[encoded data removed]",
      "text/plain": [
       "<Figure size 432x288 with 1 Axes>"
      ]
     },
     "metadata": {},
     "output_type": "display_data"
    }
   ],
   "source": [
    "plt.plot(r.history['loss'], label='loss')\n",
    "plt.plot(r.history['val_loss'], label = 'val_loss')\n",
    "plt.legend()"
   ]
  },
  {
   "cell_type": "code",
   "execution_count": 95,
   "metadata": {},
   "outputs": [
    {
     "data": {
      "text/plain": [
       "<matplotlib.legend.Legend at 0x29f8e44efd0>"
      ]
     },
     "execution_count": 95,
     "metadata": {},
     "output_type": "execute_result"
    },
    {
     "data": {
      "image/png": "[encoded data removed]",
      "text/plain": [
       "<Figure size 432x288 with 1 Axes>"
      ]
     },
     "metadata": {},
     "output_type": "display_data"
    }
   ],
   "source": [
    "plt.plot(r.history['accuracy'], label= 'accuracy')\n",
    "plt.plot(r.history['val_accuracy'], label='val_accuracy')\n",
    "plt.legend()"
   ]
  },
  {
   "cell_type": "markdown",
   "metadata": {
    "id": "QswfkbtkkzD0",
    "papermill": {
     "duration": 0.028824,
     "end_time": "2021-04-04T13:44:04.864124",
     "exception": false,
     "start_time": "2021-04-04T13:44:04.835300",
     "status": "completed"
    },
    "tags": []
   },
   "source": [
    " Train and Test with LSTM model"
   ]
  },
  {
   "cell_type": "markdown",
   "metadata": {
    "id": "RH2k_JZ8kzD6",
    "papermill": {
     "duration": 0.508107,
     "end_time": "2021-04-04T13:51:45.424514",
     "exception": false,
     "start_time": "2021-04-04T13:51:44.916407",
     "status": "completed"
    },
    "tags": []
   },
   "source": [
    "#  BiLSTM model "
   ]
  },
  {
   "cell_type": "code",
   "execution_count": 99,
   "metadata": {
    "execution": {
     "iopub.execute_input": "2021-04-04T13:51:46.489685Z",
     "iopub.status.busy": "2021-04-04T13:51:46.488988Z",
     "iopub.status.idle": "2021-04-04T13:51:46.495148Z",
     "shell.execute_reply": "2021-04-04T13:51:46.494377Z"
    },
    "id": "RMPVLxeJkzD6",
    "papermill": {
     "duration": 0.526902,
     "end_time": "2021-04-04T13:51:46.495292",
     "exception": false,
     "start_time": "2021-04-04T13:51:45.968390",
     "status": "completed"
    },
    "tags": []
   },
   "outputs": [],
   "source": [
    "from keras.layers import Input,Embedding,Bidirectional,LSTM,BatchNormalization,Dense,GlobalMaxPool1D,Dropout,Masking,Flatten\n",
    "from keras.callbacks import EarlyStopping\n",
    "from keras.utils import plot_model\n",
    "from keras.models import Sequential\n",
    "\n",
    "word_vec_size=25\n",
    "hidden_size=128\n",
    "\n",
    "def bilstm_model():\n",
    "    model = Sequential()\n",
    "    model.add(Input(shape=[sequence_size]))\n",
    "    model.add(Embedding(vocab_size,word_vec_size,input_length=sequence_size))\n",
    "    \n",
    "    \n",
    "    model.add(Bidirectional(LSTM(hidden_size,return_sequences=True)))\n",
    "    model.add(BatchNormalization())\n",
    "    model.add(Bidirectional(LSTM(int(hidden_size/2),return_sequences=True)))\n",
    "    model.add(BatchNormalization())\n",
    "    model.add(Bidirectional(LSTM(int(hidden_size/2),return_sequences=True)))\n",
    "    \n",
    "    \n",
    "    model.add(Flatten())\n",
    "    model.output_shape\n",
    "    model.add(Dense(64,activation='relu'))\n",
    "    model.add(Dense(32,activation='relu'))\n",
    "    model.add(Dropout(0.25))\n",
    "    model.add(Dense(3,activation='softmax'))\n",
    "    \n",
    "    # model = keras.models.Model(X,Y)\n",
    "    model.compile(loss='categorical_crossentropy',optimizer='adam',metrics=['accuracy'])\n",
    "    model.summary()\n",
    "    return model"
   ]
  },
  {
   "cell_type": "code",
   "execution_count": 100,
   "metadata": {
    "id": "rnQNhovRnkK0"
   },
   "outputs": [],
   "source": [
    "# \n",
    "es = EarlyStopping(monitor='val_accuracy',mode='min',patience=4,verbose=1)"
   ]
  },
  {
   "cell_type": "code",
   "execution_count": 102,
   "metadata": {
    "execution": {
     "iopub.execute_input": "2021-04-04T13:51:47.598580Z",
     "iopub.status.busy": "2021-04-04T13:51:47.597145Z",
     "iopub.status.idle": "2021-04-04T13:57:17.528088Z",
     "shell.execute_reply": "2021-04-04T13:57:17.528676Z"
    },
    "id": "PEt3eYTHkzD7",
    "papermill": {
     "duration": 330.526211,
     "end_time": "2021-04-04T13:57:17.528863",
     "exception": false,
     "start_time": "2021-04-04T13:51:47.002652",
     "status": "completed"
    },
    "tags": []
   },
   "outputs": [
    {
     "name": "stdout",
     "output_type": "stream",
     "text": [
      "Model: \"sequential\"\n",
      "_________________________________________________________________\n",
      "Layer (type)                 Output Shape              Param #   \n",
      "=================================================================\n",
      "embedding_8 (Embedding)      (None, 20, 25)            4168000   \n",
      "_________________________________________________________________\n",
      "bidirectional_9 (Bidirection (None, 20, 256)           157696    \n",
      "_________________________________________________________________\n",
      "batch_normalization_6 (Batch (None, 20, 256)           1024      \n",
      "_________________________________________________________________\n",
      "bidirectional_10 (Bidirectio (None, 20, 128)           164352    \n",
      "_________________________________________________________________\n",
      "batch_normalization_7 (Batch (None, 20, 128)           512       \n",
      "_________________________________________________________________\n",
      "bidirectional_11 (Bidirectio (None, 20, 128)           98816     \n",
      "_________________________________________________________________\n",
      "flatten (Flatten)            (None, 2560)              0         \n",
      "_________________________________________________________________\n",
      "dense_19 (Dense)             (None, 64)                163904    \n",
      "_________________________________________________________________\n",
      "dense_20 (Dense)             (None, 32)                2080      \n",
      "_________________________________________________________________\n",
      "dropout_3 (Dropout)          (None, 32)                0         \n",
      "_________________________________________________________________\n",
      "dense_21 (Dense)             (None, 3)                 99        \n",
      "=================================================================\n",
      "Total params: 4,756,483\n",
      "Trainable params: 4,755,715\n",
      "Non-trainable params: 768\n",
      "_________________________________________________________________\n",
      "('Failed to import pydot. You must `pip install pydot` and install graphviz (https://graphviz.gitlab.io/download/), ', 'for `pydotprint` to work.')\n",
      "Epoch 1/5\n",
      "1420/1420 [==============================] - 119s 74ms/step - loss: 0.4396 - accuracy: 0.8262 - val_loss: 0.1619 - val_accuracy: 0.9474\n",
      "Epoch 2/5\n",
      "1420/1420 [==============================] - 129s 91ms/step - loss: 0.1017 - accuracy: 0.9682 - val_loss: 0.1391 - val_accuracy: 0.9589\n",
      "Epoch 3/5\n",
      "1420/1420 [==============================] - 200s 141ms/step - loss: 0.0483 - accuracy: 0.9850 - val_loss: 0.1339 - val_accuracy: 0.9608\n",
      "Epoch 4/5\n",
      "1420/1420 [==============================] - 194s 137ms/step - loss: 0.0273 - accuracy: 0.9921 - val_loss: 0.1477 - val_accuracy: 0.9681\n",
      "Epoch 5/5\n",
      "1420/1420 [==============================] - 170s 120ms/step - loss: 0.0186 - accuracy: 0.9944 - val_loss: 0.1582 - val_accuracy: 0.9661\n",
      "Epoch 00005: early stopping\n",
      "6084/6084 [==============================] - 128s 20ms/step - loss: 0.1557 - accuracy: 0.9668\n"
     ]
    },
    {
     "data": {
      "text/plain": [
       "[0.15570692718029022, 0.9668033123016357]"
      ]
     },
     "execution_count": 102,
     "metadata": {},
     "output_type": "execute_result"
    }
   ],
   "source": [
    "lstm_no = bilstm_model()\n",
    "plot_model(lstm_no)\n",
    "lstm_no_hist = lstm_no.fit(train_data,train_label,epochs=5,batch_size=256,validation_split=0.2,callbacks=[es])\n",
    "lstm_no.evaluate(test_data,test_label)"
   ]
  },
  {
   "cell_type": "code",
   "execution_count": 103,
   "metadata": {
    "id": "kV1BqbTA_XIz"
   },
   "outputs": [],
   "source": [
    "lstm_no.save('Sentiment_analysis_BiLSTM.h5')"
   ]
  },
  {
   "cell_type": "code",
   "execution_count": 104,
   "metadata": {},
   "outputs": [
    {
     "data": {
      "text/plain": [
       "<matplotlib.legend.Legend at 0x29f9a469df0>"
      ]
     },
     "execution_count": 104,
     "metadata": {},
     "output_type": "execute_result"
    },
    {
     "data": {
      "image/png": "[encoded data removed]",
      "text/plain": [
       "<Figure size 432x288 with 1 Axes>"
      ]
     },
     "metadata": {},
     "output_type": "display_data"
    }
   ],
   "source": [
    "plt.plot(lstm_no_hist.history['loss'], label='loss')\n",
    "plt.plot(lstm_no_hist.history['val_loss'], label = 'val_loss')\n",
    "plt.legend()"
   ]
  },
  {
   "cell_type": "code",
   "execution_count": 105,
   "metadata": {},
   "outputs": [
    {
     "data": {
      "text/plain": [
       "<matplotlib.legend.Legend at 0x29fd1b30df0>"
      ]
     },
     "execution_count": 105,
     "metadata": {},
     "output_type": "execute_result"
    },
    {
     "data": {
      "image/png": "[encoded data removed]",
      "text/plain": [
       "<Figure size 432x288 with 1 Axes>"
      ]
     },
     "metadata": {},
     "output_type": "display_data"
    }
   ],
   "source": [
    "plt.plot(lstm_no_hist.history['accuracy'], label= 'accuracy')\n",
    "plt.plot(lstm_no_hist.history['val_accuracy'], label='val_accuracy')\n",
    "plt.legend()"
   ]
  }
 ],
 "metadata": {
  "colab": {
   "collapsed_sections": [],
   "name": "covid19",
   "provenance": []
  },
  "kernelspec": {
   "display_name": "Python 3",
   "language": "python",
   "name": "python3"
  },
  "language_info": {
   "codemirror_mode": {
    "name": "ipython",
    "version": 3
   },
   "file_extension": ".py",
   "mimetype": "text/x-python",
   "name": "python",
   "nbconvert_exporter": "python",
   "pygments_lexer": "ipython3",
   "version": "3.8.5"
  },
  "papermill": {
   "default_parameters": {},
   "duration": 895.888177,
   "end_time": "2021-04-04T13:58:39.650750",
   "environment_variables": {},
   "exception": null,
   "input_path": "__notebook__.ipynb",
   "output_path": "__notebook__.ipynb",
   "parameters": {},
   "start_time": "2021-04-04T13:43:43.762573",
   "version": "2.2.2"
  }
 },
 "nbformat": 4,
 "nbformat_minor": 1
}
